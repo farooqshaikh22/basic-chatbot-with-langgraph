{
 "cells": [
  {
   "cell_type": "code",
   "execution_count": 56,
   "id": "c72484cc",
   "metadata": {},
   "outputs": [],
   "source": [
    "from IPython.display import Image, display\n",
    "from langgraph.graph import StateGraph, MessagesState , START, END\n",
    "from langchain_groq import ChatGroq\n",
    "import requests\n",
    "from langchain_core.messages import HumanMessage, SystemMessage\n",
    "from langgraph.prebuilt import ToolNode, tools_condition\n",
    "from typing import Annotated\n",
    "from typing_extensions import TypedDict\n",
    "from langgraph.graph.message import add_messages\n",
    "from dotenv import load_dotenv\n",
    "import os\n",
    "from langchain_core.tools import tool"
   ]
  },
  {
   "cell_type": "code",
   "execution_count": 11,
   "id": "75b9b108",
   "metadata": {},
   "outputs": [],
   "source": [
    "class State(TypedDict):\n",
    "    messages: Annotated[list, add_messages]"
   ]
  },
  {
   "cell_type": "code",
   "execution_count": 29,
   "metadata": {},
   "outputs": [],
   "source": [
    "from langchain_community.tools import DuckDuckGoSearchRun\n",
    "\n",
    "@tool\n",
    "def search_duckduckgo(query: str):\n",
    "    \"\"\"Searches DuckDuckGo using LangChain's DuckDuckGoSearchRun tool.\"\"\"\n",
    "    \n",
    "    search = DuckDuckGoSearchRun()\n",
    "    \n",
    "    return search.invoke(query)"
   ]
  },
  {
   "cell_type": "code",
   "execution_count": 13,
   "id": "cf1bb924",
   "metadata": {},
   "outputs": [
    {
     "name": "stdout",
     "output_type": "stream",
     "text": [
      "An AI agent is a software component that has the agency to act on behalf of a user or a system to perform tasks.Users can organize agents into systems that can orchestrate complex workflows, coordinate activities among multiple agents, apply logic to thorny problems, and evaluate answers to user queries. Limitations of AI Agents. AI agents have undoubtedly transformed many industries, but they come with limitations that impact their reliability, adaptability, and ethical use. Here are some of the main limitations: Limited Understanding of Context Many AI agents lack the deep understanding of context that humans have. An AI agent is a software program that can interact with its surroundings, gather information, and use that information to complete tasks on its own to achieve goals set by humans.. For instance, an AI agent on an online shopping platform can recommend products, answer customer questions, and process orders. If agent needs more information, it can ask users for additional details. AI agents are also difficult to evaluate in a repeatable way that shows progress without employing artificial constraints. This is especially challenging as the core capabilities of the underlying LLMs continue to rapidly improve, which makes it difficult to know whether your approach has improved results or if it's simply the underlying ... AI Agents in Healthcare and Finance . Healthcare: Babylon Health uses AI agents to provide initial symptom diagnoses, suggest possible conditions, and connect patients with medical professionals in real-time. This not only speeds up the process of seeking care but also helps reduce the workload on healthcare providers. AI agents are also being ...\n"
     ]
    }
   ],
   "source": [
    "# Example usage\n",
    "result = search_duckduckgo(\"what are AI agent\")\n",
    "print(result)"
   ]
  },
  {
   "cell_type": "code",
   "execution_count": 31,
   "metadata": {},
   "outputs": [],
   "source": [
    "@tool\n",
    "def multiply(a:int, b:int)->int:\n",
    "    \n",
    "    \"\"\" multiply a and b \"\"\"\n",
    "    \n",
    "    return a*b"
   ]
  },
  {
   "cell_type": "code",
   "execution_count": 33,
   "id": "5b223bb2",
   "metadata": {},
   "outputs": [],
   "source": [
    "@tool\n",
    "def add(a:int, b:int)->int:\n",
    "    \n",
    "    \"\"\" adds a and b \"\"\"\n",
    "    \n",
    "    return a+b"
   ]
  },
  {
   "cell_type": "code",
   "execution_count": 43,
   "id": "eed29f1a",
   "metadata": {},
   "outputs": [],
   "source": [
    "load_dotenv()\n",
    "api_key = os.getenv(\"GROQ_API_KEY\")\n",
    "\n",
    "# 1. Instantiate Groq LLM and Wikipedia tool\n",
    "llm = ChatGroq(model=\"llama3-70b-8192\", api_key=api_key)"
   ]
  },
  {
   "cell_type": "code",
   "execution_count": 44,
   "id": "737d79cd",
   "metadata": {},
   "outputs": [
    {
     "data": {
      "text/plain": [
       "\"Hello! It's nice to meet you. Is there something I can help you with, or would you like to chat?\""
      ]
     },
     "execution_count": 44,
     "metadata": {},
     "output_type": "execute_result"
    }
   ],
   "source": [
    "llm.invoke(\"hello !\").content"
   ]
  },
  {
   "cell_type": "code",
   "execution_count": 53,
   "id": "ed29df2a",
   "metadata": {},
   "outputs": [],
   "source": [
    "tools = [search_duckduckgo, multiply, add]\n",
    "\n",
    "llm_with_tools = llm.bind_tools(tools,tool_choice=\"auto\")"
   ]
  },
  {
   "cell_type": "code",
   "execution_count": 54,
   "id": "c2e4e90f",
   "metadata": {},
   "outputs": [],
   "source": [
    "def chatbot(state: State):\n",
    "    \n",
    "    return {\"messages\": [llm_with_tools.invoke(state[\"messages\"])]}"
   ]
  },
  {
   "cell_type": "code",
   "execution_count": 57,
   "id": "0d725bfe",
   "metadata": {},
   "outputs": [],
   "source": [
    "graph_builder = StateGraph(State)\n",
    "\n",
    "## define nodes\n",
    "\n",
    "graph_builder.add_node(\"assistant\", chatbot)\n",
    "graph_builder.add_node(\"tools\",ToolNode(tools))\n",
    "\n",
    "## define edges\n",
    "graph_builder.add_edge(START, \"assistant\")\n",
    "graph_builder.add_conditional_edges(\"assistant\",tools_condition)\n",
    "graph_builder.add_edge(\"tools\",\"assistant\")\n",
    "\n",
    "react_graph = graph_builder.compile()"
   ]
  },
  {
   "cell_type": "code",
   "execution_count": 58,
   "id": "42c2811a",
   "metadata": {},
   "outputs": [
    {
     "data": {
      "image/png": "[encoded data removed]",
      "text/plain": [
       "<IPython.core.display.Image object>"
      ]
     },
     "metadata": {},
     "output_type": "display_data"
    }
   ],
   "source": [
    "# To see the graph’s connection visually\n",
    "\n",
    "display(Image(react_graph.get_graph().draw_mermaid_png()))"
   ]
  },
  {
   "cell_type": "code",
   "execution_count": 59,
   "metadata": {},
   "outputs": [
    {
     "name": "stdout",
     "output_type": "stream",
     "text": [
      "[HumanMessage(content='what is the weather in delhi. Multiply it by 2 and add 5.', additional_kwargs={}, response_metadata={}, id='4e859393-3d1c-4d08-bf6b-5b296c786ac8'), AIMessage(content='', additional_kwargs={'tool_calls': [{'id': 'call_490n', 'function': {'arguments': '{\"query\":\"weather in delhi\"}', 'name': 'search_duckduckgo'}, 'type': 'function'}]}, response_metadata={'token_usage': {'completion_tokens': 49, 'prompt_tokens': 1153, 'total_tokens': 1202, 'completion_time': 0.176187354, 'prompt_time': 0.037690792, 'queue_time': 0.074782371, 'total_time': 0.213878146}, 'model_name': 'llama3-70b-8192', 'system_fingerprint': 'fp_dd4ae1c591', 'finish_reason': 'tool_calls', 'logprobs': None}, id='run-849ad729-5daf-44e3-99d8-06f9efd48da0-0', tool_calls=[{'name': 'search_duckduckgo', 'args': {'query': 'weather in delhi'}, 'id': 'call_490n', 'type': 'tool_call'}], usage_metadata={'input_tokens': 1153, 'output_tokens': 49, 'total_tokens': 1202}), ToolMessage(content=\"New Delhi, India - Current temperature and weather conditions. Detailed hourly weather forecast for today - including weather conditions, temperature, pressure, humidity, precipitation, dewpoint, wind, visibility, and UV index data. Get today's real-time weather updates in New Delhi with hourly temperatures and a weekly forecast. Find out about New Delhi's temperature trends, rain chances, air quality (AQI), and humidity ... Delhi Weather Update: Amid the heat wave, the India Meteorological Department predicted a rise in maximum temperatures in the national capital by about 2°C during the next 2 days. Today's and tonight's professional weather forecast for New Delhi. Precipitation radar, HD satellite images, and current weather warnings, hourly temperature, chance of rain, and sunshine hours. New Delhi Weather Forecasts. Weather Underground provides local & long-range weather forecasts, weatherreports, maps & tropical weather conditions for the New Delhi area.\", name='search_duckduckgo', id='25bcbf3c-6df8-4d25-85b3-c973d2589161', tool_call_id='call_490n'), AIMessage(content='', additional_kwargs={'tool_calls': [{'id': 'call_k2sz', 'function': {'arguments': '{\"a\":28,\"b\":2}', 'name': 'multiply'}, 'type': 'function'}, {'id': 'call_xb9j', 'function': {'arguments': '{\"a\":56,\"b\":5}', 'name': 'add'}, 'type': 'function'}]}, response_metadata={'token_usage': {'completion_tokens': 61, 'prompt_tokens': 1405, 'total_tokens': 1466, 'completion_time': 0.174285714, 'prompt_time': 0.053648349, 'queue_time': 0.05595971400000001, 'total_time': 0.227934063}, 'model_name': 'llama3-70b-8192', 'system_fingerprint': 'fp_dd4ae1c591', 'finish_reason': 'tool_calls', 'logprobs': None}, id='run-1b2388ed-a649-43f5-8b5b-eefb828f443f-0', tool_calls=[{'name': 'multiply', 'args': {'a': 28, 'b': 2}, 'id': 'call_k2sz', 'type': 'tool_call'}, {'name': 'add', 'args': {'a': 56, 'b': 5}, 'id': 'call_xb9j', 'type': 'tool_call'}], usage_metadata={'input_tokens': 1405, 'output_tokens': 61, 'total_tokens': 1466}), ToolMessage(content='56', name='multiply', id='8ce4037d-5197-433e-a73e-a238944635a2', tool_call_id='call_k2sz'), ToolMessage(content='61', name='add', id='8b221421-3301-42d6-9705-e1c14f74c12e', tool_call_id='call_xb9j'), AIMessage(content='The answer is 61.', additional_kwargs={}, response_metadata={'token_usage': {'completion_tokens': 7, 'prompt_tokens': 1531, 'total_tokens': 1538, 'completion_time': 0.096507046, 'prompt_time': 0.057676606, 'queue_time': 0.05982919600000001, 'total_time': 0.154183652}, 'model_name': 'llama3-70b-8192', 'system_fingerprint': 'fp_dd4ae1c591', 'finish_reason': 'stop', 'logprobs': None}, id='run-e17b725c-3a80-4cf9-9c62-c8cf6384ac93-0', usage_metadata={'input_tokens': 1531, 'output_tokens': 7, 'total_tokens': 1538})]\n"
     ]
    }
   ],
   "source": [
    "response = react_graph.invoke({\"messages\": [HumanMessage(content=\"what is the weather in delhi. Multiply it by 2 and add 5.\")]})\n",
    "print(response[\"messages\"])\n",
    "     "
   ]
  },
  {
   "cell_type": "code",
   "execution_count": 61,
   "id": "d0f69dc0",
   "metadata": {},
   "outputs": [
    {
     "name": "stdout",
     "output_type": "stream",
     "text": [
      "[HumanMessage(content='what is ai agent?', additional_kwargs={}, response_metadata={}, id='dff9fefa-b0b2-4eff-9514-6bec0c954632'), AIMessage(content='', additional_kwargs={'tool_calls': [{'id': 'call_n35b', 'function': {'arguments': '{\"query\":\"ai agent\"}', 'name': 'search_duckduckgo'}, 'type': 'function'}]}, response_metadata={'token_usage': {'completion_tokens': 47, 'prompt_tokens': 1140, 'total_tokens': 1187, 'completion_time': 0.149556095, 'prompt_time': 0.037377017, 'queue_time': 0.054399460999999996, 'total_time': 0.186933112}, 'model_name': 'llama3-70b-8192', 'system_fingerprint': 'fp_dd4ae1c591', 'finish_reason': 'tool_calls', 'logprobs': None}, id='run-acf2bee3-9cfe-4cf8-8700-d8070c202cf6-0', tool_calls=[{'name': 'search_duckduckgo', 'args': {'query': 'ai agent'}, 'id': 'call_n35b', 'type': 'tool_call'}], usage_metadata={'input_tokens': 1140, 'output_tokens': 47, 'total_tokens': 1187}), ToolMessage(content=\"Limitations of AI Agents. AI agents have undoubtedly transformed many industries, but they come with limitations that impact their reliability, adaptability, and ethical use. Here are some of the main limitations: Limited Understanding of Context Many AI agents lack the deep understanding of context that humans have. An AI agent is a software component that has the agency to act on behalf of a user or a system to perform tasks.Users can organize agents into systems that can orchestrate complex workflows, coordinate activities among multiple agents, apply logic to thorny problems, and evaluate answers to user queries. An AI agent is a software program that can interact with its surroundings, gather information, and use that information to complete tasks on its own to achieve goals set by humans.. For instance, an AI agent on an online shopping platform can recommend products, answer customer questions, and process orders. If agent needs more information, it can ask users for additional details. AI agents can learn and improve in several ways without necessarily changing their underlying AI models: Few-shot learning is a technique where agents learn from recent successful interactions and use them as examples for similar future cases. For instance, a customer service agent can use recent successful responses as templates for new ... AI agents are also difficult to evaluate in a repeatable way that shows progress without employing artificial constraints. This is especially challenging as the core capabilities of the underlying LLMs continue to rapidly improve, which makes it difficult to know whether your approach has improved results or if it's simply the underlying ...\", name='search_duckduckgo', id='f267ecce-52bb-4392-a4e6-32be0dd4a2e5', tool_call_id='call_n35b'), AIMessage(content='', additional_kwargs={'tool_calls': [{'id': 'call_vkpc', 'function': {'arguments': '{\"a\":1,\"b\":2}', 'name': 'multiply'}, 'type': 'function'}, {'id': 'call_q323', 'function': {'arguments': '{\"a\":3,\"b\":4}', 'name': 'add'}, 'type': 'function'}]}, response_metadata={'token_usage': {'completion_tokens': 61, 'prompt_tokens': 1506, 'total_tokens': 1567, 'completion_time': 0.195958234, 'prompt_time': 0.056687548, 'queue_time': 0.058762784000000005, 'total_time': 0.252645782}, 'model_name': 'llama3-70b-8192', 'system_fingerprint': 'fp_dd4ae1c591', 'finish_reason': 'tool_calls', 'logprobs': None}, id='run-292c9090-7c9d-4a1d-b176-96f9d06999b7-0', tool_calls=[{'name': 'multiply', 'args': {'a': 1, 'b': 2}, 'id': 'call_vkpc', 'type': 'tool_call'}, {'name': 'add', 'args': {'a': 3, 'b': 4}, 'id': 'call_q323', 'type': 'tool_call'}], usage_metadata={'input_tokens': 1506, 'output_tokens': 61, 'total_tokens': 1567}), ToolMessage(content='2', name='multiply', id='8a75aada-db6f-4e30-95c6-0a6d583e8c9a', tool_call_id='call_vkpc'), ToolMessage(content='7', name='add', id='2cc4c1d5-4173-4394-b1c0-e3383641d70c', tool_call_id='call_q323'), AIMessage(content='The result of the multiplication is 2 and the result of the addition is 7.', additional_kwargs={}, response_metadata={'token_usage': {'completion_tokens': 19, 'prompt_tokens': 1626, 'total_tokens': 1645, 'completion_time': 0.106282282, 'prompt_time': 0.061038511, 'queue_time': 0.060517981000000005, 'total_time': 0.167320793}, 'model_name': 'llama3-70b-8192', 'system_fingerprint': 'fp_dd4ae1c591', 'finish_reason': 'stop', 'logprobs': None}, id='run-9018c65d-6cc1-49eb-89a9-b731ed835c11-0', usage_metadata={'input_tokens': 1626, 'output_tokens': 19, 'total_tokens': 1645})]\n"
     ]
    }
   ],
   "source": [
    "response = react_graph.invoke({\"messages\": [HumanMessage(content=\"what is ai agent?\")]})\n",
    "print(response[\"messages\"])"
   ]
  }
 ],
 "metadata": {
  "kernelspec": {
   "display_name": "Python 3",
   "language": "python",
   "name": "python3"
  },
  "language_info": {
   "codemirror_mode": {
    "name": "ipython",
    "version": 3
   },
   "file_extension": ".py",
   "mimetype": "text/x-python",
   "name": "python",
   "nbconvert_exporter": "python",
   "pygments_lexer": "ipython3",
   "version": "3.10.0"
  }
 },
 "nbformat": 4,
 "nbformat_minor": 5
}
